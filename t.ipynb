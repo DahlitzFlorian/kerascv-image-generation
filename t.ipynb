{
 "cells": [
  {
   "cell_type": "code",
   "execution_count": 1,
   "id": "2eddd4ff-6f60-4326-86c7-31af7f9dc646",
   "metadata": {},
   "outputs": [
    {
     "name": "stdout",
     "output_type": "stream",
     "text": [
      "Using TensorFlow backend\n"
     ]
    }
   ],
   "source": [
    "import time\n",
    "\n",
    "import keras_cv\n",
    "import matplotlib.pyplot as plt\n",
    "\n",
    "from PIL import Image"
   ]
  },
  {
   "cell_type": "code",
   "execution_count": 2,
   "id": "a0120760-1471-454b-b165-2569103668ae",
   "metadata": {},
   "outputs": [
    {
     "name": "stdout",
     "output_type": "stream",
     "text": [
      "By using this model checkpoint, you acknowledge that its usage is subject to the terms of the CreativeML Open RAIL-M license at https://raw.githubusercontent.com/CompVis/stable-diffusion/main/LICENSE\n"
     ]
    }
   ],
   "source": [
    "model = keras_cv.models.StableDiffusion(img_width=1920, img_height=1080)"
   ]
  },
  {
   "cell_type": "code",
   "execution_count": 3,
   "id": "e0283277-a4cf-4e5b-ad85-b15d3f02d28c",
   "metadata": {},
   "outputs": [],
   "source": [
    "prompt = \"A city symbolising the mobility transition to a more sustainable society, light, \" \\\n",
    "    \"high quality, highly detailed, elegant, sharp focus, \"\n",
    "#    \"concept art, character concepts, digital painting\"\n",
    "filename = \"mobility_transition\""
   ]
  },
  {
   "cell_type": "code",
   "execution_count": 4,
   "id": "68b6d06d-2f44-4b99-8dfc-2edf1269f9db",
   "metadata": {},
   "outputs": [],
   "source": [
    "def save_images(images):\n",
    "    for idx, image in enumerate(images):\n",
    "        img = Image.fromarray(image)\n",
    "        img.save(f\"{filename}-{idx}.png\")"
   ]
  },
  {
   "cell_type": "code",
   "execution_count": null,
   "id": "26bceaa9-d3c6-4daa-9fe3-47349ad1989d",
   "metadata": {},
   "outputs": [
    {
     "name": "stderr",
     "output_type": "stream",
     "text": [
      "WARNING:absl:XLA (`jit_compile`) is not yet supported on Apple M1/M2 ARM processors. Falling back to `jit_compile=False`.\n",
      "WARNING:absl:XLA (`jit_compile`) is not yet supported on Apple M1/M2 ARM processors. Falling back to `jit_compile=False`.\n"
     ]
    }
   ],
   "source": [
    "images = model.text_to_image(\n",
    "    prompt,\n",
    "    batch_size=1,\n",
    ")"
   ]
  },
  {
   "cell_type": "code",
   "execution_count": null,
   "id": "b1de2a53-553a-4411-a100-01fd19df3159",
   "metadata": {},
   "outputs": [],
   "source": [
    "save_images(images)"
   ]
  },
  {
   "cell_type": "code",
   "execution_count": null,
   "id": "290fec67-9568-4dfc-a93c-d83276478f54",
   "metadata": {},
   "outputs": [],
   "source": []
  }
 ],
 "metadata": {
  "kernelspec": {
   "display_name": "Python 3 (ipykernel)",
   "language": "python",
   "name": "python3"
  },
  "language_info": {
   "codemirror_mode": {
    "name": "ipython",
    "version": 3
   },
   "file_extension": ".py",
   "mimetype": "text/x-python",
   "name": "python",
   "nbconvert_exporter": "python",
   "pygments_lexer": "ipython3",
   "version": "3.10.13"
  }
 },
 "nbformat": 4,
 "nbformat_minor": 5
}
